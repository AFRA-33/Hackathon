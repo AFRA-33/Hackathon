{
 "cells": [
  {
   "cell_type": "markdown",
   "id": "4c519fe4-11c1-4a74-b247-c12d64302ff0",
   "metadata": {},
   "source": [
    "# ***Quiz Application***"
   ]
  },
  {
   "cell_type": "code",
   "execution_count": 38,
   "id": "7da5b841-aa59-409d-8b97-b8818d527f83",
   "metadata": {},
   "outputs": [
    {
     "name": "stdout",
     "output_type": "stream",
     "text": [
      "what is your country name?\n"
     ]
    },
    {
     "name": "stdin",
     "output_type": "stream",
     "text": [
      "Enter your answer.. pakistan\n"
     ]
    },
    {
     "name": "stdout",
     "output_type": "stream",
     "text": [
      "Your answer is correct, you get 1 mark.\n",
      "what is your name?\n"
     ]
    },
    {
     "name": "stdin",
     "output_type": "stream",
     "text": [
      "Enter your answer.. afra\n"
     ]
    },
    {
     "name": "stdout",
     "output_type": "stream",
     "text": [
      "Your answer is correct, you get 1 mark.\n",
      "what is your city?\n"
     ]
    },
    {
     "name": "stdin",
     "output_type": "stream",
     "text": [
      "Enter your answer.. karachi\n"
     ]
    },
    {
     "name": "stdout",
     "output_type": "stream",
     "text": [
      "Your answer is correct, you get 1 mark.\n",
      "Your Total score is 3 \n"
     ]
    }
   ],
   "source": [
    "questions = {\n",
    "    \"what is your country name?\":\"pakistan\",\n",
    "    \"what is your name?\":\"afra\",\n",
    "    \"what is your city?\":\"karachi\"\n",
    "}\n",
    "correct_answer = []\n",
    "score = 0\n",
    "#questions\n",
    "for question,answer in questions.items():\n",
    "    print(question)\n",
    "    user_answer = input(\"Enter your answer..\").lower()\n",
    "    if user_answer == answer:\n",
    "        print(\"Your answer is correct, you get 1 mark.\")\n",
    "        score += 1\n",
    "        #print(score)\n",
    "    else:\n",
    "        print(\"Your answer is incorrect..! Try again\")\n",
    "        break\n",
    "\n",
    "\n",
    "print(f\"Your Total score is {score} \")"
   ]
  },
  {
   "cell_type": "code",
   "execution_count": 109,
   "id": "ee2c6ba3-299c-4943-9021-8538ff426af9",
   "metadata": {},
   "outputs": [
    {
     "name": "stdout",
     "output_type": "stream",
     "text": [
      "How many months among the following have 31 days? ['decenber', 'june', 'august', 'september']\n"
     ]
    },
    {
     "name": "stdin",
     "output_type": "stream",
     "text": [
      "Enter your answer.. december\n"
     ]
    },
    {
     "name": "stdout",
     "output_type": "stream",
     "text": [
      "Your answer is incorrect..!\n",
      "How many sides and corners does the Triangle shapes have? ['3', '4', '5']\n"
     ]
    },
    {
     "name": "stdin",
     "output_type": "stream",
     "text": [
      "Enter your answer.. 3\n"
     ]
    },
    {
     "name": "stdout",
     "output_type": "stream",
     "text": [
      "\n",
      "Your answer is correct, you get 1 mark.\n",
      "Subtract 56 from 150? ['94', '65', '45']\n"
     ]
    },
    {
     "name": "stdin",
     "output_type": "stream",
     "text": [
      "Enter your answer.. 94\n"
     ]
    },
    {
     "name": "stdout",
     "output_type": "stream",
     "text": [
      "Your answer is correct, you get 1 mark.\n",
      "Your Total score is 2 \n",
      "Your pass. Congratulation..\n"
     ]
    }
   ],
   "source": [
    "questions = {\n",
    "    \"How many months among the following have 31 days?\":[\"decenber\",\"june\",\"august\",\"september\"],\n",
    "    \"How many sides and corners does the Triangle shapes have?\":[\"3\",\"4\",\"5\"],\n",
    "    \"Subtract 56 from 150?\":[\"94\",\"65\",\"45\"]\n",
    "}\n",
    "questions\n",
    "correct_answer = [\"august\",\"3\",\"94\"]\n",
    "score = 0\n",
    "for question,option in questions.items():\n",
    "    print(question,option)\n",
    "    user_answer = input(\"Enter your answer..\").lower()\n",
    "    if user_answer == correct_answer[0]:\n",
    "        print(\"Your answer is correct, you get 1 mark.\\n\")\n",
    "        score += 1\n",
    "        # print(score)\n",
    "    elif user_answer == correct_answer[1]:\n",
    "        print(\"\\nYour answer is correct, you get 1 mark.\")\n",
    "        score += 1\n",
    "        # print(score)\n",
    "    elif user_answer == correct_answer[2]:\n",
    "        print(\"Your answer is correct, you get 1 mark.\")\n",
    "        score += 1\n",
    "        # print(score)\n",
    "    else:\n",
    "        print(\"Your answer is incorrect..!\")\n",
    "        \n",
    "\n",
    "if score <= 1:\n",
    "    print(f\"Your Total score is {score} \")\n",
    "    print(f\"Your Fail..\")\n",
    "\n",
    "else:\n",
    "    print(f\"Your Total score is {score} \")\n",
    "    print(f\"Your pass. Congratulation..\")\n",
    "\n",
    "\n"
   ]
  },
  {
   "cell_type": "code",
   "execution_count": null,
   "id": "05ae90fc-22b6-4432-83e6-bf1ef8894dc5",
   "metadata": {},
   "outputs": [],
   "source": []
  },
  {
   "cell_type": "code",
   "execution_count": null,
   "id": "00168129-4085-482e-bf51-50cd6b8436b0",
   "metadata": {},
   "outputs": [],
   "source": []
  }
 ],
 "metadata": {
  "kernelspec": {
   "display_name": "Python 3 (ipykernel)",
   "language": "python",
   "name": "python3"
  },
  "language_info": {
   "codemirror_mode": {
    "name": "ipython",
    "version": 3
   },
   "file_extension": ".py",
   "mimetype": "text/x-python",
   "name": "python",
   "nbconvert_exporter": "python",
   "pygments_lexer": "ipython3",
   "version": "3.12.4"
  }
 },
 "nbformat": 4,
 "nbformat_minor": 5
}
